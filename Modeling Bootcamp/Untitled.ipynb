{
 "cells": [
  {
   "cell_type": "code",
   "execution_count": 2,
   "metadata": {},
   "outputs": [],
   "source": [
    "from pathlib import Path\n",
    "import json\n",
    "import os\n",
    "import datetime\n",
    "import time\n",
    "import numpy as np\n",
    "import multiprocessing as mp"
   ]
  },
  {
   "cell_type": "code",
   "execution_count": 10,
   "metadata": {},
   "outputs": [
    {
     "name": "stdout",
     "output_type": "stream",
     "text": [
      "*** Processing instance input_22_20_17_16.json\n"
     ]
    }
   ],
   "source": [
    "INSTANCE_FOLDER = \"./data/Problems\"\n",
    "instance_name = \"input_22_20_17_16.json\"\n",
    "\n",
    "instance_path = os.path.join(INSTANCE_FOLDER, instance_name)\n",
    "\n",
    "print(\"*** Processing instance {}\".format(instance_name))\n",
    "\n",
    "\n",
    "with open(instance_path, 'r') as f:\n",
    "    input_data = json.load(f)\n",
    "    scenesLength, actorsToScenes, actorsCosts = input_data['scenesLength'],input_data['actorsToScenes'], input_data['actorsCosts']\n",
    "\n",
    "\n",
    "num_scenes = len(scenesLength)\n",
    "num_actors = len(actorsCosts)\n",
    "\n",
    "actorsToScenes_new = np.zeros((len(actorsCosts), len(scenesLength)))\n",
    "for actor, scenes in enumerate(actorsToScenes):\n",
    "        actorsToScenes_new[actor, scenes] = 1\n",
    "\n",
    "\n",
    "data = {\n",
    "        \"num_scenes\": len(scenesLength),\n",
    "        \"num_actors\": len(actorsCosts),\n",
    "        \"max_cost\": max(actorsCosts),\n",
    "        \"duration\": scenesLength,\n",
    "        \"actor_cost\": actorsCosts,\n",
    "        \"actorsToScenes\": actorsToScenes_new.astype(int).tolist()\n",
    "        }"
   ]
  },
  {
   "cell_type": "code",
   "execution_count": 9,
   "metadata": {},
   "outputs": [
    {
     "data": {
      "text/plain": [
       "{'num_scenes': 20,\n",
       " 'num_actors': 22,\n",
       " 'max_cost': 16,\n",
       " 'duration': array([16, 12, 17, 14, 12,  7,  2, 16, 13,  1,  5,  4, 17, 13, 10,  8, 10,\n",
       "         2,  9, 15]),\n",
       " 'actor_cost': [1,\n",
       "  10,\n",
       "  9,\n",
       "  2,\n",
       "  3,\n",
       "  2,\n",
       "  16,\n",
       "  6,\n",
       "  1,\n",
       "  1,\n",
       "  6,\n",
       "  14,\n",
       "  8,\n",
       "  9,\n",
       "  5,\n",
       "  6,\n",
       "  16,\n",
       "  1,\n",
       "  12,\n",
       "  13,\n",
       "  4,\n",
       "  4],\n",
       " 'actorsToScenes': [[0,\n",
       "   0,\n",
       "   0,\n",
       "   0,\n",
       "   0,\n",
       "   0,\n",
       "   0,\n",
       "   0,\n",
       "   0,\n",
       "   0,\n",
       "   0,\n",
       "   1,\n",
       "   0,\n",
       "   0,\n",
       "   0,\n",
       "   0,\n",
       "   0,\n",
       "   0,\n",
       "   0,\n",
       "   0],\n",
       "  [0, 1, 0, 1, 0, 0, 0, 1, 0, 0, 0, 0, 1, 0, 0, 0, 1, 0, 0, 0],\n",
       "  [0, 0, 0, 0, 0, 0, 0, 0, 0, 0, 0, 1, 0, 0, 0, 0, 0, 0, 0, 0],\n",
       "  [0, 0, 0, 0, 0, 0, 0, 0, 0, 1, 0, 0, 0, 0, 0, 0, 0, 0, 0, 0],\n",
       "  [0, 0, 0, 1, 1, 1, 1, 1, 0, 1, 1, 1, 1, 1, 0, 1, 1, 1, 0, 1],\n",
       "  [1, 1, 1, 1, 1, 0, 1, 1, 0, 1, 0, 1, 1, 1, 1, 1, 1, 1, 0, 1],\n",
       "  [0, 0, 0, 0, 0, 0, 1, 0, 1, 0, 0, 0, 0, 0, 1, 1, 1, 0, 1, 1],\n",
       "  [0, 1, 1, 1, 1, 1, 1, 1, 1, 1, 1, 1, 0, 1, 1, 1, 1, 1, 1, 1],\n",
       "  [1, 1, 1, 1, 1, 1, 1, 1, 0, 0, 1, 1, 1, 1, 1, 1, 1, 1, 1, 1],\n",
       "  [1, 1, 1, 1, 1, 1, 1, 1, 0, 1, 1, 1, 1, 1, 1, 1, 1, 1, 1, 1],\n",
       "  [0, 1, 1, 1, 1, 0, 1, 0, 0, 1, 0, 0, 1, 1, 1, 1, 1, 0, 0, 1],\n",
       "  [0, 0, 0, 1, 1, 1, 0, 1, 0, 0, 0, 0, 0, 0, 0, 0, 0, 0, 1, 0],\n",
       "  [1, 0, 1, 1, 1, 1, 1, 0, 1, 1, 1, 1, 1, 1, 1, 1, 0, 1, 0, 1],\n",
       "  [1, 1, 1, 0, 1, 1, 1, 1, 0, 1, 0, 1, 1, 1, 0, 1, 1, 1, 1, 1],\n",
       "  [0, 0, 1, 0, 0, 0, 0, 0, 0, 0, 0, 0, 0, 0, 0, 0, 0, 0, 0, 0],\n",
       "  [0, 0, 0, 0, 0, 1, 0, 0, 0, 0, 0, 0, 0, 0, 0, 0, 1, 0, 0, 0],\n",
       "  [0, 0, 1, 0, 0, 1, 1, 0, 1, 0, 0, 0, 0, 1, 0, 1, 0, 1, 1, 1],\n",
       "  [0, 0, 0, 0, 1, 0, 1, 0, 1, 0, 0, 0, 1, 0, 1, 0, 0, 0, 1, 1],\n",
       "  [0, 0, 1, 1, 1, 1, 1, 1, 1, 1, 1, 1, 0, 1, 1, 1, 1, 1, 1, 0],\n",
       "  [0, 0, 0, 1, 1, 1, 1, 0, 1, 1, 0, 1, 1, 0, 1, 1, 1, 0, 1, 0],\n",
       "  [1, 1, 1, 1, 1, 1, 1, 1, 1, 1, 1, 1, 0, 1, 1, 1, 1, 1, 1, 1],\n",
       "  [1, 0, 1, 1, 0, 0, 0, 1, 0, 1, 1, 0, 0, 0, 0, 0, 0, 1, 0, 0]]}"
      ]
     },
     "execution_count": 9,
     "metadata": {},
     "output_type": "execute_result"
    }
   ],
   "source": [
    "data"
   ]
  },
  {
   "cell_type": "code",
   "execution_count": null,
   "metadata": {},
   "outputs": [],
   "source": []
  }
 ],
 "metadata": {
  "kernelspec": {
   "display_name": "Python 3",
   "language": "python",
   "name": "python3"
  },
  "language_info": {
   "codemirror_mode": {
    "name": "ipython",
    "version": 3
   },
   "file_extension": ".py",
   "mimetype": "text/x-python",
   "name": "python",
   "nbconvert_exporter": "python",
   "pygments_lexer": "ipython3",
   "version": "3.7.3"
  }
 },
 "nbformat": 4,
 "nbformat_minor": 4
}
